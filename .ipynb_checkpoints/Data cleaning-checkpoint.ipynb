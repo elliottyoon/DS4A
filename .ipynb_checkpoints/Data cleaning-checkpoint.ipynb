{
 "cells": [
  {
   "cell_type": "markdown",
   "id": "north-surge",
   "metadata": {},
   "source": [
    "## Cleaning datasets "
   ]
  },
  {
   "cell_type": "markdown",
   "id": "compatible-international",
   "metadata": {},
   "source": [
    "Import dependencies:"
   ]
  },
  {
   "cell_type": "code",
   "execution_count": 1,
   "id": "electronic-search",
   "metadata": {},
   "outputs": [],
   "source": [
    "import numpy as np\n",
    "import pandas as pd\n",
    "import seaborn as sns\n",
    "import matplotlib as plt\n",
    "import json"
   ]
  },
  {
   "cell_type": "markdown",
   "id": "better-airfare",
   "metadata": {},
   "source": [
    "---"
   ]
  },
  {
   "cell_type": "markdown",
   "id": "prime-clause",
   "metadata": {},
   "source": [
    "### Dataset 1: Annual deforestation \n",
    "*type: json*\n"
   ]
  },
  {
   "cell_type": "code",
   "execution_count": 9,
   "id": "fabulous-object",
   "metadata": {},
   "outputs": [
    {
     "data": {
      "text/plain": [
       "Index(['indicator', 'country', 'countryiso3code', 'date', 'value', 'unit',\n",
       "       'obs_status', 'decimal'],\n",
       "      dtype='object')"
      ]
     },
     "execution_count": 9,
     "metadata": {},
     "output_type": "execute_result"
    }
   ],
   "source": [
    "with open('annual-deforestation-of-change-1.json') as json_file:\n",
    "    data = json.load(json_file)\n",
    "  \n",
    "    # Print the type of data variable\n",
    "    # print(\"Type:\", type(data)) ; it's a list\n",
    "    \n",
    "deforest_raw_data = pd.Series(data) \n",
    "\n",
    "# deforest_data[0] ; after peeking at this we can see it is just some metadata\n",
    "deforest_raw_data = deforest_raw_data.drop(0) # drops metadata\n",
    "deforest_data = deforest_raw_data[1]\n",
    "\n",
    "\n",
    "deforest_df = pd.DataFrame(deforest_data)\n",
    "deforest_df.columns"
   ]
  },
  {
   "cell_type": "code",
   "execution_count": 10,
   "id": "animated-century",
   "metadata": {},
   "outputs": [
    {
     "data": {
      "text/plain": [
       "0       {'id': 'ER.FST.DFST.ZG', 'value': 'Annual defo...\n",
       "1       {'id': 'ER.FST.DFST.ZG', 'value': 'Annual defo...\n",
       "2       {'id': 'ER.FST.DFST.ZG', 'value': 'Annual defo...\n",
       "3       {'id': 'ER.FST.DFST.ZG', 'value': 'Annual defo...\n",
       "4       {'id': 'ER.FST.DFST.ZG', 'value': 'Annual defo...\n",
       "                              ...                        \n",
       "2571    {'id': 'ER.FST.DFST.ZG', 'value': 'Annual defo...\n",
       "2572    {'id': 'ER.FST.DFST.ZG', 'value': 'Annual defo...\n",
       "2573    {'id': 'ER.FST.DFST.ZG', 'value': 'Annual defo...\n",
       "2574    {'id': 'ER.FST.DFST.ZG', 'value': 'Annual defo...\n",
       "2575    {'id': 'ER.FST.DFST.ZG', 'value': 'Annual defo...\n",
       "Name: indicator, Length: 2576, dtype: object"
      ]
     },
     "execution_count": 10,
     "metadata": {},
     "output_type": "execute_result"
    }
   ],
   "source": [
    "deforest_df['indicator']"
   ]
  },
  {
   "cell_type": "code",
   "execution_count": 11,
   "id": "regular-penalty",
   "metadata": {},
   "outputs": [
    {
     "data": {
      "text/plain": [
       "{'id': 'ER.FST.DFST.ZG', 'value': 'Annual deforestation (% of change)'}"
      ]
     },
     "execution_count": 11,
     "metadata": {},
     "output_type": "execute_result"
    }
   ],
   "source": [
    "deforest_df['indicator'][0]"
   ]
  },
  {
   "cell_type": "code",
   "execution_count": 12,
   "id": "rubber-polish",
   "metadata": {},
   "outputs": [
    {
     "data": {
      "text/html": [
       "<div>\n",
       "<style scoped>\n",
       "    .dataframe tbody tr th:only-of-type {\n",
       "        vertical-align: middle;\n",
       "    }\n",
       "\n",
       "    .dataframe tbody tr th {\n",
       "        vertical-align: top;\n",
       "    }\n",
       "\n",
       "    .dataframe thead th {\n",
       "        text-align: right;\n",
       "    }\n",
       "</style>\n",
       "<table border=\"1\" class=\"dataframe\">\n",
       "  <thead>\n",
       "    <tr style=\"text-align: right;\">\n",
       "      <th></th>\n",
       "      <th>indicator</th>\n",
       "      <th>country</th>\n",
       "      <th>countryiso3code</th>\n",
       "      <th>date</th>\n",
       "      <th>value</th>\n",
       "      <th>unit</th>\n",
       "      <th>obs_status</th>\n",
       "      <th>decimal</th>\n",
       "    </tr>\n",
       "  </thead>\n",
       "  <tbody>\n",
       "    <tr>\n",
       "      <th>0</th>\n",
       "      <td>{'id': 'ER.FST.DFST.ZG', 'value': 'Annual defo...</td>\n",
       "      <td>{'id': '', 'value': 'East Asia &amp; Pacific (IBRD...</td>\n",
       "      <td></td>\n",
       "      <td>2017</td>\n",
       "      <td>NaN</td>\n",
       "      <td></td>\n",
       "      <td></td>\n",
       "      <td>0</td>\n",
       "    </tr>\n",
       "    <tr>\n",
       "      <th>1</th>\n",
       "      <td>{'id': 'ER.FST.DFST.ZG', 'value': 'Annual defo...</td>\n",
       "      <td>{'id': '', 'value': 'East Asia &amp; Pacific (IBRD...</td>\n",
       "      <td></td>\n",
       "      <td>2016</td>\n",
       "      <td>NaN</td>\n",
       "      <td></td>\n",
       "      <td></td>\n",
       "      <td>0</td>\n",
       "    </tr>\n",
       "    <tr>\n",
       "      <th>2</th>\n",
       "      <td>{'id': 'ER.FST.DFST.ZG', 'value': 'Annual defo...</td>\n",
       "      <td>{'id': '', 'value': 'East Asia &amp; Pacific (IBRD...</td>\n",
       "      <td></td>\n",
       "      <td>2015</td>\n",
       "      <td>-0.467377</td>\n",
       "      <td></td>\n",
       "      <td></td>\n",
       "      <td>0</td>\n",
       "    </tr>\n",
       "    <tr>\n",
       "      <th>3</th>\n",
       "      <td>{'id': 'ER.FST.DFST.ZG', 'value': 'Annual defo...</td>\n",
       "      <td>{'id': '', 'value': 'East Asia &amp; Pacific (IBRD...</td>\n",
       "      <td></td>\n",
       "      <td>2014</td>\n",
       "      <td>NaN</td>\n",
       "      <td></td>\n",
       "      <td></td>\n",
       "      <td>0</td>\n",
       "    </tr>\n",
       "    <tr>\n",
       "      <th>4</th>\n",
       "      <td>{'id': 'ER.FST.DFST.ZG', 'value': 'Annual defo...</td>\n",
       "      <td>{'id': '', 'value': 'East Asia &amp; Pacific (IBRD...</td>\n",
       "      <td></td>\n",
       "      <td>2013</td>\n",
       "      <td>NaN</td>\n",
       "      <td></td>\n",
       "      <td></td>\n",
       "      <td>0</td>\n",
       "    </tr>\n",
       "  </tbody>\n",
       "</table>\n",
       "</div>"
      ],
      "text/plain": [
       "                                           indicator  \\\n",
       "0  {'id': 'ER.FST.DFST.ZG', 'value': 'Annual defo...   \n",
       "1  {'id': 'ER.FST.DFST.ZG', 'value': 'Annual defo...   \n",
       "2  {'id': 'ER.FST.DFST.ZG', 'value': 'Annual defo...   \n",
       "3  {'id': 'ER.FST.DFST.ZG', 'value': 'Annual defo...   \n",
       "4  {'id': 'ER.FST.DFST.ZG', 'value': 'Annual defo...   \n",
       "\n",
       "                                             country countryiso3code  date  \\\n",
       "0  {'id': '', 'value': 'East Asia & Pacific (IBRD...                  2017   \n",
       "1  {'id': '', 'value': 'East Asia & Pacific (IBRD...                  2016   \n",
       "2  {'id': '', 'value': 'East Asia & Pacific (IBRD...                  2015   \n",
       "3  {'id': '', 'value': 'East Asia & Pacific (IBRD...                  2014   \n",
       "4  {'id': '', 'value': 'East Asia & Pacific (IBRD...                  2013   \n",
       "\n",
       "      value unit obs_status  decimal  \n",
       "0       NaN                        0  \n",
       "1       NaN                        0  \n",
       "2 -0.467377                        0  \n",
       "3       NaN                        0  \n",
       "4       NaN                        0  "
      ]
     },
     "execution_count": 12,
     "metadata": {},
     "output_type": "execute_result"
    }
   ],
   "source": [
    "deforest_df.head()"
   ]
  },
  {
   "cell_type": "code",
   "execution_count": 13,
   "id": "heated-conversation",
   "metadata": {},
   "outputs": [],
   "source": [
    "deforest_df = deforest_df.drop(['indicator','countryiso3code', 'obs_status'], axis=1)"
   ]
  },
  {
   "cell_type": "code",
   "execution_count": 14,
   "id": "oriented-nevada",
   "metadata": {},
   "outputs": [
    {
     "data": {
      "text/html": [
       "<div>\n",
       "<style scoped>\n",
       "    .dataframe tbody tr th:only-of-type {\n",
       "        vertical-align: middle;\n",
       "    }\n",
       "\n",
       "    .dataframe tbody tr th {\n",
       "        vertical-align: top;\n",
       "    }\n",
       "\n",
       "    .dataframe thead th {\n",
       "        text-align: right;\n",
       "    }\n",
       "</style>\n",
       "<table border=\"1\" class=\"dataframe\">\n",
       "  <thead>\n",
       "    <tr style=\"text-align: right;\">\n",
       "      <th></th>\n",
       "      <th>country</th>\n",
       "      <th>date</th>\n",
       "      <th>value</th>\n",
       "      <th>unit</th>\n",
       "      <th>decimal</th>\n",
       "    </tr>\n",
       "  </thead>\n",
       "  <tbody>\n",
       "    <tr>\n",
       "      <th>0</th>\n",
       "      <td>{'id': '', 'value': 'East Asia &amp; Pacific (IBRD...</td>\n",
       "      <td>2017</td>\n",
       "      <td>NaN</td>\n",
       "      <td></td>\n",
       "      <td>0</td>\n",
       "    </tr>\n",
       "    <tr>\n",
       "      <th>1</th>\n",
       "      <td>{'id': '', 'value': 'East Asia &amp; Pacific (IBRD...</td>\n",
       "      <td>2016</td>\n",
       "      <td>NaN</td>\n",
       "      <td></td>\n",
       "      <td>0</td>\n",
       "    </tr>\n",
       "    <tr>\n",
       "      <th>2</th>\n",
       "      <td>{'id': '', 'value': 'East Asia &amp; Pacific (IBRD...</td>\n",
       "      <td>2015</td>\n",
       "      <td>-0.467377</td>\n",
       "      <td></td>\n",
       "      <td>0</td>\n",
       "    </tr>\n",
       "    <tr>\n",
       "      <th>3</th>\n",
       "      <td>{'id': '', 'value': 'East Asia &amp; Pacific (IBRD...</td>\n",
       "      <td>2014</td>\n",
       "      <td>NaN</td>\n",
       "      <td></td>\n",
       "      <td>0</td>\n",
       "    </tr>\n",
       "    <tr>\n",
       "      <th>4</th>\n",
       "      <td>{'id': '', 'value': 'East Asia &amp; Pacific (IBRD...</td>\n",
       "      <td>2013</td>\n",
       "      <td>NaN</td>\n",
       "      <td></td>\n",
       "      <td>0</td>\n",
       "    </tr>\n",
       "    <tr>\n",
       "      <th>...</th>\n",
       "      <td>...</td>\n",
       "      <td>...</td>\n",
       "      <td>...</td>\n",
       "      <td>...</td>\n",
       "      <td>...</td>\n",
       "    </tr>\n",
       "    <tr>\n",
       "      <th>2571</th>\n",
       "      <td>{'id': '', 'value': 'Zimbabwe'}</td>\n",
       "      <td>1994</td>\n",
       "      <td>NaN</td>\n",
       "      <td></td>\n",
       "      <td>0</td>\n",
       "    </tr>\n",
       "    <tr>\n",
       "      <th>2572</th>\n",
       "      <td>{'id': '', 'value': 'Zimbabwe'}</td>\n",
       "      <td>1993</td>\n",
       "      <td>NaN</td>\n",
       "      <td></td>\n",
       "      <td>0</td>\n",
       "    </tr>\n",
       "    <tr>\n",
       "      <th>2573</th>\n",
       "      <td>{'id': '', 'value': 'Zimbabwe'}</td>\n",
       "      <td>1992</td>\n",
       "      <td>NaN</td>\n",
       "      <td></td>\n",
       "      <td>0</td>\n",
       "    </tr>\n",
       "    <tr>\n",
       "      <th>2574</th>\n",
       "      <td>{'id': '', 'value': 'Zimbabwe'}</td>\n",
       "      <td>1991</td>\n",
       "      <td>NaN</td>\n",
       "      <td></td>\n",
       "      <td>0</td>\n",
       "    </tr>\n",
       "    <tr>\n",
       "      <th>2575</th>\n",
       "      <td>{'id': '', 'value': 'Zimbabwe'}</td>\n",
       "      <td>1990</td>\n",
       "      <td>NaN</td>\n",
       "      <td></td>\n",
       "      <td>0</td>\n",
       "    </tr>\n",
       "  </tbody>\n",
       "</table>\n",
       "<p>2576 rows × 5 columns</p>\n",
       "</div>"
      ],
      "text/plain": [
       "                                                country  date     value unit  \\\n",
       "0     {'id': '', 'value': 'East Asia & Pacific (IBRD...  2017       NaN        \n",
       "1     {'id': '', 'value': 'East Asia & Pacific (IBRD...  2016       NaN        \n",
       "2     {'id': '', 'value': 'East Asia & Pacific (IBRD...  2015 -0.467377        \n",
       "3     {'id': '', 'value': 'East Asia & Pacific (IBRD...  2014       NaN        \n",
       "4     {'id': '', 'value': 'East Asia & Pacific (IBRD...  2013       NaN        \n",
       "...                                                 ...   ...       ...  ...   \n",
       "2571                    {'id': '', 'value': 'Zimbabwe'}  1994       NaN        \n",
       "2572                    {'id': '', 'value': 'Zimbabwe'}  1993       NaN        \n",
       "2573                    {'id': '', 'value': 'Zimbabwe'}  1992       NaN        \n",
       "2574                    {'id': '', 'value': 'Zimbabwe'}  1991       NaN        \n",
       "2575                    {'id': '', 'value': 'Zimbabwe'}  1990       NaN        \n",
       "\n",
       "      decimal  \n",
       "0           0  \n",
       "1           0  \n",
       "2           0  \n",
       "3           0  \n",
       "4           0  \n",
       "...       ...  \n",
       "2571        0  \n",
       "2572        0  \n",
       "2573        0  \n",
       "2574        0  \n",
       "2575        0  \n",
       "\n",
       "[2576 rows x 5 columns]"
      ]
     },
     "execution_count": 14,
     "metadata": {},
     "output_type": "execute_result"
    }
   ],
   "source": [
    "deforest_df"
   ]
  },
  {
   "cell_type": "code",
   "execution_count": 22,
   "id": "opposite-fourth",
   "metadata": {},
   "outputs": [],
   "source": [
    "# need to clean country data"
   ]
  },
  {
   "cell_type": "code",
   "execution_count": 18,
   "id": "proprietary-cosmetic",
   "metadata": {},
   "outputs": [
    {
     "data": {
      "text/plain": [
       "dict"
      ]
     },
     "execution_count": 18,
     "metadata": {},
     "output_type": "execute_result"
    }
   ],
   "source": [
    "type(deforest_df['country'][0])"
   ]
  },
  {
   "cell_type": "code",
   "execution_count": null,
   "id": "fossil-cardiff",
   "metadata": {},
   "outputs": [],
   "source": []
  }
 ],
 "metadata": {
  "kernelspec": {
   "display_name": "ipy-jupyter-venv3",
   "language": "python",
   "name": "myipy_jupter_env3"
  },
  "language_info": {
   "codemirror_mode": {
    "name": "ipython",
    "version": 3
   },
   "file_extension": ".py",
   "mimetype": "text/x-python",
   "name": "python",
   "nbconvert_exporter": "python",
   "pygments_lexer": "ipython3",
   "version": "3.7.4"
  }
 },
 "nbformat": 4,
 "nbformat_minor": 5
}
